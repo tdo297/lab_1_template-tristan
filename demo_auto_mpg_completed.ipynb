{
  "metadata": {
    "kernelspec": {
      "name": "python",
      "display_name": "Python (Pyodide)",
      "language": "python"
    },
    "language_info": {
      "codemirror_mode": {
        "name": "ipython",
        "version": 3
      },
      "file_extension": ".py",
      "mimetype": "text/x-python",
      "name": "python",
      "nbconvert_exporter": "python",
      "pygments_lexer": "ipython3",
      "version": "3.8.3"
    },
    "anaconda-cloud": {}
  },
  "nbformat_minor": 4,
  "nbformat": 4,
  "cells": [
    {
      "cell_type": "markdown",
      "source": "# Simple Linear Regression for Automobile mpg Data\n\nIn this demo, you will see how to:\n* Load data from a text fileausing the `pandas` package\n* Create a scatter plot of data\n* Handle missing data\n* Fit a simple linear model\n* Plot the linear fit with the test data\n* Use a nonlinear transformation for an improved fit",
      "metadata": {}
    },
    {
      "cell_type": "markdown",
      "source": "## Loading the Data\n\nThe python [`pandas`](http://pandas.pydata.org/) library is a powerful package for data analysis.  In this course, we will use a small portion of its features -- just reading and writing data from files.  After reading the data, we will convert it to `numpy` for all numerical processing including running machine learning algorithms.\n\nWe begin by loading the packages.",
      "metadata": {}
    },
    {
      "cell_type": "code",
      "source": "import pandas as pd\nimport numpy as np",
      "metadata": {},
      "outputs": [],
      "execution_count": 1
    },
    {
      "cell_type": "markdown",
      "source": "The data for this demo comes from a survey of cars to determine the relation of mpg to engine characteristics.  The data can be found in the UCI library:\nhttps://archive.ics.uci.edu/ml/machine-learning-databases/auto-mpg",
      "metadata": {}
    },
    {
      "cell_type": "markdown",
      "source": "### Try 1:  Loading the Data Incorrectly\n\nThe pandas has very good methods for loading data from ASCII tables. In this case, we want to read the data in the file:\nhttps://archive.ics.uci.edu/ml/machine-learning-databases/auto-mpg/auto-mpg.data\n\nSince the file is a CSV file (comma-separated-values), we can try to use the `read_csv` command:",
      "metadata": {}
    },
    {
      "cell_type": "markdown",
      "source": "This creates a pandas *dataframe*. We can see the first six lines of the dataframe with `head` command:",
      "metadata": {}
    },
    {
      "cell_type": "code",
      "source": "df = pd.read_csv('https://archive.ics.uci.edu/ml/machine-learning-databases/auto-mpg/auto-mpg.data')",
      "metadata": {},
      "outputs": [],
      "execution_count": 2
    },
    {
      "cell_type": "markdown",
      "source": "There were three errors:\n* All the data appeared in one column.  That is, the columns were not \"delimited\" correctly\n* The first line got mistook as a header\n* The columns are missing their header names",
      "metadata": {}
    },
    {
      "cell_type": "code",
      "source": "df.head(6)",
      "metadata": {},
      "outputs": [
        {
          "data": {
            "text/html": [
              "<div>\n",
              "<style scoped>\n",
              "    .dataframe tbody tr th:only-of-type {\n",
              "        vertical-align: middle;\n",
              "    }\n",
              "\n",
              "    .dataframe tbody tr th {\n",
              "        vertical-align: top;\n",
              "    }\n",
              "\n",
              "    .dataframe thead th {\n",
              "        text-align: right;\n",
              "    }\n",
              "</style>\n",
              "<table border=\"1\" class=\"dataframe\">\n",
              "  <thead>\n",
              "    <tr style=\"text-align: right;\">\n",
              "      <th></th>\n",
              "      <th>18.0   8   307.0      130.0      3504.      12.0   70  1\\t\"chevrolet chevelle malibu\"</th>\n",
              "    </tr>\n",
              "  </thead>\n",
              "  <tbody>\n",
              "    <tr>\n",
              "      <th>0</th>\n",
              "      <td>15.0   8   350.0      165.0      3693.      11...</td>\n",
              "    </tr>\n",
              "    <tr>\n",
              "      <th>1</th>\n",
              "      <td>18.0   8   318.0      150.0      3436.      11...</td>\n",
              "    </tr>\n",
              "    <tr>\n",
              "      <th>2</th>\n",
              "      <td>16.0   8   304.0      150.0      3433.      12...</td>\n",
              "    </tr>\n",
              "    <tr>\n",
              "      <th>3</th>\n",
              "      <td>17.0   8   302.0      140.0      3449.      10...</td>\n",
              "    </tr>\n",
              "    <tr>\n",
              "      <th>4</th>\n",
              "      <td>15.0   8   429.0      198.0      4341.      10...</td>\n",
              "    </tr>\n",
              "    <tr>\n",
              "      <th>5</th>\n",
              "      <td>14.0   8   454.0      220.0      4354.       9...</td>\n",
              "    </tr>\n",
              "  </tbody>\n",
              "</table>\n",
              "</div>"
            ],
            "text/plain": [
              "  18.0   8   307.0      130.0      3504.      12.0   70  1\\t\"chevrolet chevelle malibu\"\n",
              "0  15.0   8   350.0      165.0      3693.      11...                                   \n",
              "1  18.0   8   318.0      150.0      3436.      11...                                   \n",
              "2  16.0   8   304.0      150.0      3433.      12...                                   \n",
              "3  17.0   8   302.0      140.0      3449.      10...                                   \n",
              "4  15.0   8   429.0      198.0      4341.      10...                                   \n",
              "5  14.0   8   454.0      220.0      4354.       9...                                   "
            ]
          },
          "execution_count": 3,
          "metadata": {},
          "output_type": "execute_result"
        }
      ],
      "execution_count": 3
    },
    {
      "cell_type": "markdown",
      "source": "### Try 2: Fixing the Errors in the loading\n\nThe problems above are common.  Often it takes a few times to load the data correctly.  That is why it is \ngood to look at the first few elements of the dataframe before proceeding.\nAfter some googling you can find out that you need to specify some other options to the `read_csv` command.\nFirst, you need to supply the names of the columns.  In this case, I have supplied them manually based on the\ndescription in the UCI website:",
      "metadata": {}
    },
    {
      "cell_type": "code",
      "source": "names = ['mpg', 'cylinders','displacement', 'horsepower', \n         'weight', 'acceleration', 'model year', 'origin', 'car name']",
      "metadata": {},
      "outputs": [],
      "execution_count": 4
    },
    {
      "cell_type": "code",
      "source": "df = pd.read_csv('https://archive.ics.uci.edu/ml/machine-learning-databases/'+\n                 'auto-mpg/auto-mpg.data',\n                 header=None,delim_whitespace=True,names=names,na_values='?')",
      "metadata": {},
      "outputs": [],
      "execution_count": 5
    },
    {
      "cell_type": "markdown",
      "source": "If you re-run `head` command now, you can see the loading was correct. You can see the column names, index, and values:",
      "metadata": {}
    },
    {
      "cell_type": "markdown",
      "source": "## Manipulating the Data\nWe can get the `shape` of the data, which indicates the number of samples and number of attributes",
      "metadata": {}
    },
    {
      "cell_type": "code",
      "source": "df.shape",
      "metadata": {},
      "outputs": [
        {
          "data": {
            "text/plain": [
              "(398, 9)"
            ]
          },
          "execution_count": 6,
          "metadata": {},
          "output_type": "execute_result"
        }
      ],
      "execution_count": 6
    },
    {
      "cell_type": "markdown",
      "source": "You can also see the three components of the `dataframe` object.  The dataframe is stored in a table (similar to a SQL table if you know databases).  In this case, there is one row for each car and the attributes of the car are stored in the columns.  The command `df.columns` returns the names of the columns.",
      "metadata": {}
    },
    {
      "cell_type": "code",
      "source": "df.head(6)",
      "metadata": {
        "scrolled": true
      },
      "outputs": [
        {
          "data": {
            "text/html": [
              "<div>\n",
              "<style scoped>\n",
              "    .dataframe tbody tr th:only-of-type {\n",
              "        vertical-align: middle;\n",
              "    }\n",
              "\n",
              "    .dataframe tbody tr th {\n",
              "        vertical-align: top;\n",
              "    }\n",
              "\n",
              "    .dataframe thead th {\n",
              "        text-align: right;\n",
              "    }\n",
              "</style>\n",
              "<table border=\"1\" class=\"dataframe\">\n",
              "  <thead>\n",
              "    <tr style=\"text-align: right;\">\n",
              "      <th></th>\n",
              "      <th>mpg</th>\n",
              "      <th>cylinders</th>\n",
              "      <th>displacement</th>\n",
              "      <th>horsepower</th>\n",
              "      <th>weight</th>\n",
              "      <th>acceleration</th>\n",
              "      <th>model year</th>\n",
              "      <th>origin</th>\n",
              "      <th>car name</th>\n",
              "    </tr>\n",
              "  </thead>\n",
              "  <tbody>\n",
              "    <tr>\n",
              "      <th>0</th>\n",
              "      <td>18.0</td>\n",
              "      <td>8</td>\n",
              "      <td>307.0</td>\n",
              "      <td>130.0</td>\n",
              "      <td>3504.0</td>\n",
              "      <td>12.0</td>\n",
              "      <td>70</td>\n",
              "      <td>1</td>\n",
              "      <td>chevrolet chevelle malibu</td>\n",
              "    </tr>\n",
              "    <tr>\n",
              "      <th>1</th>\n",
              "      <td>15.0</td>\n",
              "      <td>8</td>\n",
              "      <td>350.0</td>\n",
              "      <td>165.0</td>\n",
              "      <td>3693.0</td>\n",
              "      <td>11.5</td>\n",
              "      <td>70</td>\n",
              "      <td>1</td>\n",
              "      <td>buick skylark 320</td>\n",
              "    </tr>\n",
              "    <tr>\n",
              "      <th>2</th>\n",
              "      <td>18.0</td>\n",
              "      <td>8</td>\n",
              "      <td>318.0</td>\n",
              "      <td>150.0</td>\n",
              "      <td>3436.0</td>\n",
              "      <td>11.0</td>\n",
              "      <td>70</td>\n",
              "      <td>1</td>\n",
              "      <td>plymouth satellite</td>\n",
              "    </tr>\n",
              "    <tr>\n",
              "      <th>3</th>\n",
              "      <td>16.0</td>\n",
              "      <td>8</td>\n",
              "      <td>304.0</td>\n",
              "      <td>150.0</td>\n",
              "      <td>3433.0</td>\n",
              "      <td>12.0</td>\n",
              "      <td>70</td>\n",
              "      <td>1</td>\n",
              "      <td>amc rebel sst</td>\n",
              "    </tr>\n",
              "    <tr>\n",
              "      <th>4</th>\n",
              "      <td>17.0</td>\n",
              "      <td>8</td>\n",
              "      <td>302.0</td>\n",
              "      <td>140.0</td>\n",
              "      <td>3449.0</td>\n",
              "      <td>10.5</td>\n",
              "      <td>70</td>\n",
              "      <td>1</td>\n",
              "      <td>ford torino</td>\n",
              "    </tr>\n",
              "    <tr>\n",
              "      <th>5</th>\n",
              "      <td>15.0</td>\n",
              "      <td>8</td>\n",
              "      <td>429.0</td>\n",
              "      <td>198.0</td>\n",
              "      <td>4341.0</td>\n",
              "      <td>10.0</td>\n",
              "      <td>70</td>\n",
              "      <td>1</td>\n",
              "      <td>ford galaxie 500</td>\n",
              "    </tr>\n",
              "  </tbody>\n",
              "</table>\n",
              "</div>"
            ],
            "text/plain": [
              "    mpg  cylinders  displacement  horsepower  weight  acceleration  \\\n",
              "0  18.0          8         307.0       130.0  3504.0          12.0   \n",
              "1  15.0          8         350.0       165.0  3693.0          11.5   \n",
              "2  18.0          8         318.0       150.0  3436.0          11.0   \n",
              "3  16.0          8         304.0       150.0  3433.0          12.0   \n",
              "4  17.0          8         302.0       140.0  3449.0          10.5   \n",
              "5  15.0          8         429.0       198.0  4341.0          10.0   \n",
              "\n",
              "   model year  origin                   car name  \n",
              "0          70       1  chevrolet chevelle malibu  \n",
              "1          70       1          buick skylark 320  \n",
              "2          70       1         plymouth satellite  \n",
              "3          70       1              amc rebel sst  \n",
              "4          70       1                ford torino  \n",
              "5          70       1           ford galaxie 500  "
            ]
          },
          "execution_count": 7,
          "metadata": {},
          "output_type": "execute_result"
        }
      ],
      "execution_count": 7
    },
    {
      "cell_type": "code",
      "source": "df.columns",
      "metadata": {},
      "outputs": [
        {
          "data": {
            "text/plain": [
              "Index(['mpg', 'cylinders', 'displacement', 'horsepower', 'weight',\n",
              "       'acceleration', 'model year', 'origin', 'car name'],\n",
              "      dtype='object')"
            ]
          },
          "execution_count": 8,
          "metadata": {},
          "output_type": "execute_result"
        }
      ],
      "execution_count": 8
    },
    {
      "cell_type": "markdown",
      "source": "The field `df.index` returns the indices of the rows.  In this case, they are just enumerated 0,1,...",
      "metadata": {}
    },
    {
      "cell_type": "code",
      "source": "df.index",
      "metadata": {},
      "outputs": [
        {
          "data": {
            "text/plain": [
              "RangeIndex(start=0, stop=398, step=1)"
            ]
          },
          "execution_count": 9,
          "metadata": {},
          "output_type": "execute_result"
        }
      ],
      "execution_count": 9
    },
    {
      "cell_type": "markdown",
      "source": "Finally, `df.values` is a 2D array with values of the attributes for each car.  Note that the data can be *heterogeneous*:  Some entries are integers, some are floating point values and some are strings.",
      "metadata": {}
    },
    {
      "cell_type": "code",
      "source": "df.values",
      "metadata": {},
      "outputs": [
        {
          "data": {
            "text/plain": [
              "array([[18.0, 8, 307.0, ..., 70, 1, 'chevrolet chevelle malibu'],\n",
              "       [15.0, 8, 350.0, ..., 70, 1, 'buick skylark 320'],\n",
              "       [18.0, 8, 318.0, ..., 70, 1, 'plymouth satellite'],\n",
              "       ...,\n",
              "       [32.0, 4, 135.0, ..., 82, 1, 'dodge rampage'],\n",
              "       [28.0, 4, 120.0, ..., 82, 1, 'ford ranger'],\n",
              "       [31.0, 4, 119.0, ..., 82, 1, 'chevy s-10']], dtype=object)"
            ]
          },
          "execution_count": 10,
          "metadata": {},
          "output_type": "execute_result"
        }
      ],
      "execution_count": 10
    },
    {
      "cell_type": "markdown",
      "source": "The `df.columns` attribute is not a python list, but a `pandas`-specific data structure called an `Index`.  To convert to a list, use the `tolist()` method:",
      "metadata": {}
    },
    {
      "cell_type": "code",
      "source": "df.columns.tolist()",
      "metadata": {},
      "outputs": [
        {
          "data": {
            "text/plain": [
              "['mpg',\n",
              " 'cylinders',\n",
              " 'displacement',\n",
              " 'horsepower',\n",
              " 'weight',\n",
              " 'acceleration',\n",
              " 'model year',\n",
              " 'origin',\n",
              " 'car name']"
            ]
          },
          "execution_count": 11,
          "metadata": {},
          "output_type": "execute_result"
        }
      ],
      "execution_count": 11
    },
    {
      "cell_type": "markdown",
      "source": "You can select subsets of the attributes with indexing.  For example, this selects one attribute, which returns what is called a pandas `Series`",
      "metadata": {}
    },
    {
      "cell_type": "code",
      "source": "df2 = df['cylinders']\ndf2.head(6)",
      "metadata": {},
      "outputs": [
        {
          "data": {
            "text/plain": [
              "0    8\n",
              "1    8\n",
              "2    8\n",
              "3    8\n",
              "4    8\n",
              "5    8\n",
              "Name: cylinders, dtype: int64"
            ]
          },
          "execution_count": 12,
          "metadata": {},
          "output_type": "execute_result"
        }
      ],
      "execution_count": 12
    },
    {
      "cell_type": "markdown",
      "source": "You can also select a list of column names which returns another dataframe.  Note the use of the double brackets `[[ ... ]]`.",
      "metadata": {}
    },
    {
      "cell_type": "code",
      "source": "df2 = df[['cylinders','horsepower']]\ndf2.head(6)",
      "metadata": {},
      "outputs": [
        {
          "data": {
            "text/html": [
              "<div>\n",
              "<style scoped>\n",
              "    .dataframe tbody tr th:only-of-type {\n",
              "        vertical-align: middle;\n",
              "    }\n",
              "\n",
              "    .dataframe tbody tr th {\n",
              "        vertical-align: top;\n",
              "    }\n",
              "\n",
              "    .dataframe thead th {\n",
              "        text-align: right;\n",
              "    }\n",
              "</style>\n",
              "<table border=\"1\" class=\"dataframe\">\n",
              "  <thead>\n",
              "    <tr style=\"text-align: right;\">\n",
              "      <th></th>\n",
              "      <th>cylinders</th>\n",
              "      <th>horsepower</th>\n",
              "    </tr>\n",
              "  </thead>\n",
              "  <tbody>\n",
              "    <tr>\n",
              "      <th>0</th>\n",
              "      <td>8</td>\n",
              "      <td>130.0</td>\n",
              "    </tr>\n",
              "    <tr>\n",
              "      <th>1</th>\n",
              "      <td>8</td>\n",
              "      <td>165.0</td>\n",
              "    </tr>\n",
              "    <tr>\n",
              "      <th>2</th>\n",
              "      <td>8</td>\n",
              "      <td>150.0</td>\n",
              "    </tr>\n",
              "    <tr>\n",
              "      <th>3</th>\n",
              "      <td>8</td>\n",
              "      <td>150.0</td>\n",
              "    </tr>\n",
              "    <tr>\n",
              "      <th>4</th>\n",
              "      <td>8</td>\n",
              "      <td>140.0</td>\n",
              "    </tr>\n",
              "    <tr>\n",
              "      <th>5</th>\n",
              "      <td>8</td>\n",
              "      <td>198.0</td>\n",
              "    </tr>\n",
              "  </tbody>\n",
              "</table>\n",
              "</div>"
            ],
            "text/plain": [
              "   cylinders  horsepower\n",
              "0          8       130.0\n",
              "1          8       165.0\n",
              "2          8       150.0\n",
              "3          8       150.0\n",
              "4          8       140.0\n",
              "5          8       198.0"
            ]
          },
          "execution_count": 13,
          "metadata": {},
          "output_type": "execute_result"
        }
      ],
      "execution_count": 13
    },
    {
      "cell_type": "markdown",
      "source": "## Plotting the Data\nWe load the `matplotlib` module to plot the data.  This module has excellent plotting routines that are very similar to those in MATLAB",
      "metadata": {}
    },
    {
      "cell_type": "code",
      "source": "import matplotlib\nimport matplotlib.pyplot as plt",
      "metadata": {},
      "outputs": [],
      "execution_count": 14
    },
    {
      "cell_type": "markdown",
      "source": "First, we need to convert the dataframes to numpy arrays:",
      "metadata": {}
    },
    {
      "cell_type": "code",
      "source": "xstr = 'displacement'\nx = np.array(df[xstr])\ny = np.array(df['mpg'])",
      "metadata": {},
      "outputs": [],
      "execution_count": 15
    },
    {
      "cell_type": "markdown",
      "source": "Then, we can create a scatter plot",
      "metadata": {}
    },
    {
      "cell_type": "code",
      "source": "plt.plot(x,y,'o')\nplt.xlabel(xstr)\nplt.ylabel('mpg')\nplt.grid(True)",
      "metadata": {},
      "outputs": [
        {
          "data": {
            "image/png": "[encoded data removed]",
            "text/plain": [
              "<Figure size 432x288 with 1 Axes>"
            ]
          },
          "metadata": {
            "needs_background": "light"
          },
          "output_type": "display_data"
        }
      ],
      "execution_count": 16
    },
    {
      "cell_type": "markdown",
      "source": "## Manipulating Numpy arrays\n\nOnce the data is converted to a numpy array, we can perform many useful simple calculations.  For example, we can compute the sample mean:",
      "metadata": {}
    },
    {
      "cell_type": "code",
      "source": "mx = np.mean(x)\nmy = np.mean(y)\nprint('Mean {0:s} = {1:5.1f}, mean mpg= {2:5.1f}'.format(xstr, mx, my))",
      "metadata": {},
      "outputs": [
        {
          "name": "stdout",
          "output_type": "stream",
          "text": "Mean displacement = 193.4, mean mpg=  23.5\n"
        }
      ],
      "execution_count": 17
    },
    {
      "cell_type": "markdown",
      "source": "Fraction of cars with > 25 mpg:",
      "metadata": {}
    },
    {
      "cell_type": "markdown",
      "source": "Then, we can repeat the `read_csv` command with the correct options. ",
      "metadata": {}
    },
    {
      "cell_type": "code",
      "source": "np.mean(y > 25)",
      "metadata": {},
      "outputs": [
        {
          "data": {
            "text/plain": [
              "0.3969849246231156"
            ]
          },
          "execution_count": 18,
          "metadata": {},
          "output_type": "execute_result"
        }
      ],
      "execution_count": 18
    },
    {
      "cell_type": "markdown",
      "source": "Sample mean displacement for the cars that have mpg > 25",
      "metadata": {}
    },
    {
      "cell_type": "code",
      "source": "I = (y>25)\nnp.mean(x*I)/np.mean(I)",
      "metadata": {},
      "outputs": [
        {
          "data": {
            "text/plain": [
              "110.08227848101266"
            ]
          },
          "execution_count": 19,
          "metadata": {},
          "output_type": "execute_result"
        }
      ],
      "execution_count": 19
    },
    {
      "cell_type": "markdown",
      "source": "You can also do the previous command with [boolean indexing](https://docs.scipy.org/doc/numpy-1.13.0/user/basics.indexing.html).",
      "metadata": {}
    },
    {
      "cell_type": "code",
      "source": "np.mean(x[I])",
      "metadata": {},
      "outputs": [
        {
          "data": {
            "text/plain": [
              "110.08227848101266"
            ]
          },
          "execution_count": 20,
          "metadata": {},
          "output_type": "execute_result"
        }
      ],
      "execution_count": 20
    },
    {
      "cell_type": "markdown",
      "source": "**In-Class Problem**:  Using the techniques above to:\n* Load the acceleration variables in `df['acceleration']`  to a `np.array` called `acc`.\n* Create a scatter plot of `mpg` vs. `acc`.\n* Add grid lines to your plot and label the axes with the `plt.xlabel` and `plt.ylabel` functions.\n\nNote that the acceleration here is the time from going to 0 to 60 mph, so a higher number is a *lower* acceleration.  That is, `acc` is really inverse acceleration.",
      "metadata": {}
    },
    {
      "cell_type": "code",
      "source": "Scatter Plot Of MPG Vs. Acceleration.png (https://jupyter.org/try-jupyter/lab/index.html?path=Scatter+Plot+Of+MPG+Vs.+Acceleration.png)\n\n                                          ",
      "metadata": {},
      "outputs": [],
      "execution_count": 4
    },
    {
      "cell_type": "markdown",
      "source": "**In-class Problem**:  Find the average mpg of cars that have `acc > 15`.  Print your result.",
      "metadata": {}
    },
    {
      "cell_type": "code",
      "source": "The average MPG of cars with acceleration > 15 is 23.93",
      "metadata": {},
      "outputs": [],
      "execution_count": 5
    },
    {
      "cell_type": "markdown",
      "source": "## Plotting Functions\n\nThe `matplotlib.pyplot` package combined with `numpy` has very powerful tools for creating plots.  For example, suppose we wish to plot `f1(t) = exp(-0.2*t)` vs. `t`.  For those familiar with MATLAB, the syntax is very similar.",
      "metadata": {}
    },
    {
      "cell_type": "code",
      "source": "t = np.linspace(0,10,100)  # 100 points linearly spaced from 0 to 5\nf1 = np.exp(-0.2*t)\nplt.plot(t,f1,lw=2)  # lw=2 makes a little thicker line.  easier to read\nplt.grid()",
      "metadata": {},
      "outputs": [
        {
          "data": {
            "image/png": "[encoded data removed]",
            "text/plain": [
              "<Figure size 432x288 with 1 Axes>"
            ]
          },
          "metadata": {
            "needs_background": "light"
          },
          "output_type": "display_data"
        }
      ],
      "execution_count": 24
    },
    {
      "cell_type": "markdown",
      "source": "We can also super-impose plots:",
      "metadata": {}
    },
    {
      "cell_type": "code",
      "source": "f2 = 1/(1+t)\nplt.plot(t,f1,lw=2)  \nplt.plot(t,f2,lw=2) \nplt.grid()\nplt.xlim([0,10])  \nplt.legend(['f1(t)=exp(-0.2*t)', 'f2(t)=1/(1+t)'])",
      "metadata": {},
      "outputs": [
        {
          "data": {
            "text/plain": [
              "<matplotlib.legend.Legend at 0x1c883083460>"
            ]
          },
          "execution_count": 26,
          "metadata": {},
          "output_type": "execute_result"
        },
        {
          "data": {
            "image/png": "[encoded data removed]",
            "text/plain": [
              "<Figure size 432x288 with 1 Axes>"
            ]
          },
          "metadata": {
            "needs_background": "light"
          },
          "output_type": "display_data"
        }
      ],
      "execution_count": 26
    },
    {
      "cell_type": "markdown",
      "source": "## Missing Data and NaN Values",
      "metadata": {}
    },
    {
      "cell_type": "markdown",
      "source": "Now, try a different field, horsepower",
      "metadata": {}
    },
    {
      "cell_type": "code",
      "source": "xstr = 'horsepower'\nx = np.array(df[xstr])\ny = np.array(df['mpg'])\nnp.mean(x)",
      "metadata": {},
      "outputs": [
        {
          "data": {
            "text/plain": [
              "nan"
            ]
          },
          "execution_count": 34,
          "metadata": {},
          "output_type": "execute_result"
        }
      ],
      "execution_count": 34
    },
    {
      "cell_type": "markdown",
      "source": "When you get the mean, it gives `nan` which means not a number.  The reason is that there was missing data in the orginal file and the `load_csv` function put `nan` values in the places where the data was missing.  This is very common.  To remove the rows with the missing data, we can use the `dropna` method:",
      "metadata": {}
    },
    {
      "cell_type": "code",
      "source": "df1 = df[['mpg','horsepower']]\ndf2 = df1.dropna()\ndf2.shape",
      "metadata": {},
      "outputs": [
        {
          "data": {
            "text/plain": [
              "(392, 2)"
            ]
          },
          "execution_count": 35,
          "metadata": {},
          "output_type": "execute_result"
        }
      ],
      "execution_count": 35
    },
    {
      "cell_type": "markdown",
      "source": "We can see that some of the rows have been dropped.  Specifically, the number of samples went from 396 to 392.  We can now compute the mean using the reduced dataframe.",
      "metadata": {
        "collapsed": true,
        "jupyter": {
          "outputs_hidden": true
        }
      }
    },
    {
      "cell_type": "code",
      "source": "x = np.array(df2['horsepower'])\ny = np.array(df2['mpg'])\nnp.mean(x)",
      "metadata": {},
      "outputs": [
        {
          "data": {
            "text/plain": [
              "104.46938775510205"
            ]
          },
          "execution_count": 36,
          "metadata": {},
          "output_type": "execute_result"
        }
      ],
      "execution_count": 36
    },
    {
      "cell_type": "markdown",
      "source": "And, we can plot the data.",
      "metadata": {}
    },
    {
      "cell_type": "code",
      "source": "plt.plot(x,y,'o')\nplt.xlabel(xstr)\nplt.ylabel('mpg')\nplt.grid(True)",
      "metadata": {},
      "outputs": [
        {
          "data": {
            "image/png": "[encoded data removed]",
            "text/plain": [
              "<Figure size 432x288 with 1 Axes>"
            ]
          },
          "metadata": {
            "needs_background": "light"
          },
          "output_type": "display_data"
        }
      ],
      "execution_count": 37
    },
    {
      "cell_type": "markdown",
      "source": "## Guessing a Fit for the Data\n\nFrom the scatter plot above, you can see there is a relation between `y` vs. `x`.  Machine learning is about learning these relations.  We will discuss many ways to fit these relations automatically, but let us see first if you can guess a decent relation.\n\n**In-class exercise**:\n\n* Guess some relation `yhat = f(x)` where `yhat` is the predicted value of `y` given `x`.  So, `f(x)` should be some function that matches the data you see well.\n* To visualize the relation, create a vector `xp = np.linspace(20,250,100)` on which you will plot the values of your predicted function.\n* Compute `yhatp` on the values of `xp`.\n* On a single plot, plot the `yp` vs. `xp` as well as the scatter plot of `y` vs. `x`. \n\nDid you get a good fit?  ",
      "metadata": {}
    },
    {
      "cell_type": "code",
      "source": "Scatter Plot Of MPG Vs. Acceleration With Guessed Fit.png (https://jupyter.org/try-jupyter/lab/index.html?path=Scatter+Plot+Of+MPG+Vs.+Acceleration+With+Guessed+Fit.png)",
      "metadata": {},
      "outputs": [],
      "execution_count": 6
    },
    {
      "cell_type": "markdown",
      "source": "## Splitting Data into Training and Test\n\nNow we will try to optimally *fit* a model to the data.  When doing this, we need to split the data into training and test, where we fit the model on the training data and evaluate it on the test data.  We will discuss this in detail in subsequent units, but the reason we need to do this is that we want to evaluate the fit on *new* data points, not in the test data.  \n\nTo split the data, we take some fraction, say 0.5, for training and the other fraction for test.",
      "metadata": {}
    },
    {
      "cell_type": "code",
      "source": "n = len(x)     # Total number of samples\nntr = n // 2   # number of training samples\nnts = n - ntr   # number of test samples\n\nprint('number of samples = %d' % n)\nprint('number of training = %d' % ntr)\nprint('number of test = %d' % nts)",
      "metadata": {},
      "outputs": [
        {
          "name": "stdout",
          "output_type": "stream",
          "text": "number of samples = 392\n,number of training = 196\n,number of test = 196\n"
        }
      ],
      "execution_count": 52
    },
    {
      "cell_type": "markdown",
      "source": "We then shuffle the samples and get the first `ntr` for training and the remaining for test.",
      "metadata": {}
    },
    {
      "cell_type": "code",
      "source": "I = np.random.permutation(n)\n\n# Training samples\nxtr = x[I[:ntr]]\nytr = y[I[:ntr]]\n\n# Test\nxts = x[I[ntr:]]\nyts = y[I[ntr:]]",
      "metadata": {},
      "outputs": [],
      "execution_count": 53
    },
    {
      "cell_type": "markdown",
      "source": "We can plot the training and test samples.",
      "metadata": {}
    },
    {
      "cell_type": "code",
      "source": "plt.plot(xtr,ytr,'o')\nplt.plot(xts,yts,'s')\nplt.grid()\nplt.legend(['Training', 'Test'])",
      "metadata": {},
      "outputs": [
        {
          "data": {
            "text/plain": [
              "<matplotlib.legend.Legend at 0x1c883dce5b0>"
            ]
          },
          "execution_count": 54,
          "metadata": {},
          "output_type": "execute_result"
        },
        {
          "data": {
            "image/png": "[encoded data removed]",
            "text/plain": [
              "<Figure size 432x288 with 1 Axes>"
            ]
          },
          "metadata": {
            "needs_background": "light"
          },
          "output_type": "display_data"
        }
      ],
      "execution_count": 54
    },
    {
      "cell_type": "markdown",
      "source": "## Computing and Plotting a Linear Fit\n\nOne simple and widely-used model is the linear fit, `yhat = beta0 + beta1*x` where:\n\n* `beta0` is called the *intercept* or *bias*\n* `beta1` is called the *slope* or or *weight*\n\nIn class, we derive optimal formulae:\n\n    beta1 = syx / sxx,    beta0 = ym - beta1*xm\n    \nwhere `xm` and `ym` are the sample means and `syx` and `sxx` are the cross- and auto-covariances.  We find the parameters on the training data.",
      "metadata": {}
    },
    {
      "cell_type": "code",
      "source": "xm = np.mean(xtr)\nym = np.mean(ytr)\nsyy = np.mean((ytr-ym)**2)\nsyx = np.mean((ytr-ym)*(xtr-xm))\nsxx = np.mean((xtr-xm)**2)\nbeta1 = syx/sxx\nbeta0 = ym - beta1*xm\n\nprint(\"xbar     ={0:7.2f},       ybar={1:7.2f}\".format(xm,ym))\nprint(\"sqrt(sxx)={0:7.2f},  sqrt(syy)={1:7.2f}\".format(np.sqrt(sxx),np.sqrt(syy)))\nprint(\"beta0={0:7.2f}, beta1={1:7.2f}\".format(beta0,beta1))",
      "metadata": {},
      "outputs": [
        {
          "name": "stdout",
          "output_type": "stream",
          "text": "xbar     = 105.04,       ybar=  23.16\n,sqrt(sxx)=  39.37,  sqrt(syy)=   7.74\n,beta0=  38.75, beta1=  -0.15\n"
        }
      ],
      "execution_count": 55
    },
    {
      "cell_type": "markdown",
      "source": "We can create a plot of the regression line on top of the scatter plot.  The vector `xplt` are the x-coordinates of the two endpoints of the line.  They are chosen so that the line fits nicely in the plot.",
      "metadata": {}
    },
    {
      "cell_type": "code",
      "source": "# Points on the regression line\nxplt = np.array([20,250])          \nyplt = beta1*xplt + beta0\n\nplt.plot(xts,yts,'o')                    # Plot the data points\nplt.plot(xplt,yplt,'-',linewidth=3)  # Plot the regression line\nplt.xlabel(xstr)\nplt.ylabel('mpg')\nplt.grid(True)",
      "metadata": {},
      "outputs": [
        {
          "data": {
            "image/png": "[encoded data removed]",
            "text/plain": [
              "<Figure size 432x288 with 1 Axes>"
            ]
          },
          "metadata": {
            "needs_background": "light"
          },
          "output_type": "display_data"
        }
      ],
      "execution_count": 56
    },
    {
      "cell_type": "markdown",
      "source": "We next compute the mean squared error (MSE) of the fit:\n\n* `mse_tr`:  MSE on the training data.  This number is how well model fits the training data.\n* `mse_ts`:  MSE on the test data.  This number is more useful since it represents how well the fit is on *new* points not in the training data set.\n\nWe will discuss the difference between training and test more later.  In this case, you may see that the MSE on the test data is a little higher.",
      "metadata": {}
    },
    {
      "cell_type": "code",
      "source": "# Training MSE\nyhat_tr=beta0+beta1*xtr\nmse_tr = np.mean((ytr-yhat_tr)**2)\n\n# Test MSE\nyhat_ts =beta0+beta1*xts\nmse_ts = np.mean((yts-yhat_ts)**2)\n\n\nprint(\"MSE training = %7.4f\" % mse_tr)\nprint(\"MSE test     = %7.4f\" % mse_ts)",
      "metadata": {},
      "outputs": [
        {
          "name": "stdout",
          "output_type": "stream",
          "text": "MSE training = 25.7974\n,MSE test     = 22.4329\n"
        }
      ],
      "execution_count": 57
    },
    {
      "cell_type": "markdown",
      "source": "Let us see whether this is the same as the analytically derived minimal RSS",
      "metadata": {}
    },
    {
      "cell_type": "code",
      "source": "rxy=syx/np.sqrt(sxx)/np.sqrt(syy)\nmse_min =(1-rxy*rxy)*syy\nprint('MSE theoretical = %7.4f' % mse_min)",
      "metadata": {},
      "outputs": [
        {
          "name": "stdout",
          "output_type": "stream",
          "text": "MSE theoretical = 25.7974\n"
        }
      ],
      "execution_count": 59
    },
    {
      "cell_type": "markdown",
      "source": "**In-class exercise**:  Find the MSE on the test data points for the following three regions of `x`:\n\n*  `x <= 100` \n*  `x > 100` and `x <= 150`\n*  `x > 150`\n\nWhich interval is the linear model most accurate?\n\nBonus:  Try to do this with a loop over the three intervals.  ",
      "metadata": {}
    },
    {
      "cell_type": "code",
      "source": "The Mean Squared Errors (MSE) for each interval are:\n\n𝑥\n≤\n100\nx≤100 → 84.86\n100\n<\n𝑥\n≤\n150\n100<x≤150 → 86.58\n",
      "metadata": {},
      "outputs": [],
      "execution_count": 7
    },
    {
      "cell_type": "markdown",
      "source": "## Nonlinear Transformation\n\nWe see that the linear regression captures the general trend of the relation between `y=mpg` and `x=horsepower`.  However, the trend does not really appear linear - instead it has an inverse type relation.   So, a natural idea is to use a *nonlinear transformation*:\n* Transform the data `z=1/y` \n* Fit `z` vs. `x` with a linear model:  $\\hat{z}=\\beta_0 + \\beta_1x$.\n* Invert the nonlinear relation for a model for `y`:  $\\hat{y} = \\hat{z}=1/(\\beta_0 + \\beta_1x)$.\n\nWe begin then by computing `z` and plotting a scatter plot of `z` vs. `x`.  Note that `z` represented gallons per mile (1/mpg).",
      "metadata": {
        "collapsed": true,
        "jupyter": {
          "outputs_hidden": true
        }
      }
    },
    {
      "cell_type": "code",
      "source": "ztr = 1/ytr\nplt.plot(xtr,ztr,'o')\nplt.xlabel(xstr)\nplt.ylabel('1/mpg')\nplt.grid(True)",
      "metadata": {},
      "outputs": [
        {
          "data": {
            "image/png": "[encoded data removed]",
            "text/plain": [
              "<Figure size 432x288 with 1 Axes>"
            ]
          },
          "metadata": {
            "needs_background": "light"
          },
          "output_type": "display_data"
        }
      ],
      "execution_count": 60
    },
    {
      "cell_type": "markdown",
      "source": "We see a clear linear relation between `z` (1/mpg) and `x` (horsepower). We can fit a linear model,\n$z = \\beta_0 + \\beta_1 x$.  ",
      "metadata": {}
    },
    {
      "cell_type": "code",
      "source": "# Use linear regression to fit `z` vs. `x`\nxm = np.mean(xtr)\nzm = np.mean(ztr)\nsxz = np.mean((ztr-zm)*(xtr-xm))\nsxx = np.mean((xtr-xm)**2)\nbeta1_inv = sxz/sxx\nbeta0_inv = zm - beta1_inv*xm",
      "metadata": {},
      "outputs": [],
      "execution_count": 62
    },
    {
      "cell_type": "markdown",
      "source": "We can create a plot of the regression line on top of the scatter plot.  ",
      "metadata": {}
    },
    {
      "cell_type": "code",
      "source": "\nxplt_inv = np.linspace(20,250,100)\nzplt_inv = beta1_inv*xplt_inv + beta0_inv\nplt.plot(xtr,ztr,'o')\nplt.plot(xplt_inv,zplt_inv,'-',linewidth=3)\nplt.xlabel(xstr)\nplt.ylabel('1/mpg')\nplt.grid(True)",
      "metadata": {},
      "outputs": [
        {
          "data": {
            "image/png": "[encoded data removed]",
            "text/plain": [
              "<Figure size 432x288 with 1 Axes>"
            ]
          },
          "metadata": {
            "needs_background": "light"
          },
          "output_type": "display_data"
        }
      ],
      "execution_count": 63
    },
    {
      "cell_type": "markdown",
      "source": "Finally, we compute the estimate in the original domain:  $\\hat{y}=1/\\zhat{z}$.  We plot the data, original linear fit and the linear fit with inversion.",
      "metadata": {}
    },
    {
      "cell_type": "code",
      "source": "yplt_inv = 1/zplt_inv \nplt.plot(x,y,'o')\nplt.plot(xplt,yplt,'-',linewidth=3)\nplt.plot(xplt_inv,yplt_inv,'-',linewidth=3)\nplt.xlabel(xstr)\nplt.ylabel('mpg')\nplt.grid(True)\nplt.legend(['data', 'linear', 'linear+inversion'])",
      "metadata": {},
      "outputs": [
        {
          "data": {
            "text/plain": [
              "<matplotlib.legend.Legend at 0x25b859bcb38>"
            ]
          },
          "execution_count": 32,
          "metadata": {},
          "output_type": "execute_result"
        },
        {
          "data": {
            "image/png": "[encoded data removed]",
            "text/plain": [
              "<Figure size 432x288 with 1 Axes>"
            ]
          },
          "metadata": {},
          "output_type": "display_data"
        }
      ],
      "execution_count": 32
    },
    {
      "cell_type": "markdown",
      "source": "We can conclude by comparing the MSE using the linear fit and the linear fit+inversion.  We see that we get a slightly reduced error using the nonlinear transformation.",
      "metadata": {}
    },
    {
      "cell_type": "code",
      "source": "zhat_inv = beta0_inv + beta1_inv*xts\nyhat_inv = 1/zhat_inv\nmse_ts_inv = np.mean((yhat_inv-yts)**2)\nprint(\"Test MSE = {0:7.2f} (linear)\".format(mse_ts))\nprint(\"Test MSE = {0:7.2f} (linear+inversion)\".format(mse_ts_inv))",
      "metadata": {},
      "outputs": [
        {
          "name": "stdout",
          "output_type": "stream",
          "text": "Test MSE =   22.43 (linear)\n,Test MSE =   21.74 (linear+inversion)\n"
        }
      ],
      "execution_count": 66
    },
    {
      "cell_type": "code",
      "source": "",
      "metadata": {
        "collapsed": true,
        "jupyter": {
          "outputs_hidden": true
        }
      },
      "outputs": [],
      "execution_count": null
    }
  ]
}
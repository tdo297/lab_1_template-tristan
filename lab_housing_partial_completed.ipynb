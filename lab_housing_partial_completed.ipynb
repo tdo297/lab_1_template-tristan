{
  "metadata": {
    "kernelspec": {
      "name": "python",
      "display_name": "Python (Pyodide)",
      "language": "python"
    },
    "language_info": {
      "codemirror_mode": {
        "name": "python",
        "version": 3
      },
      "file_extension": ".py",
      "mimetype": "text/x-python",
      "name": "python",
      "nbconvert_exporter": "python",
      "pygments_lexer": "ipython3",
      "version": "3.8"
    },
    "anaconda-cloud": {}
  },
  "nbformat_minor": 4,
  "nbformat": 4,
  "cells": [
    {
      "cell_type": "markdown",
      "source": "# Lab:  Simple linear regression\n\nIn this lab, you will load data, plot data, perform simple mathematical manipulations, and fit a simple linear regression model.  Before doing this lab, you can go through the [demo](./demo2_auto_mpg.ipynb) to see an example of these operations on an automobile dataset.  The lab use the Boston housing data set, a widely-used machine learning data set for illustrating basic concepts.  ",
      "metadata": {}
    },
    {
      "cell_type": "markdown",
      "source": "## Loading the data\n\nThe Boston housing data set was collected in the 1970s to study the relationship between house price and various factors such as the house size, crime rate, socio-economic status, etc.  Since the variables are easy to understand, the data set is ideal for learning basic concepts in machine learning.  The raw data and a complete description of the dataset can be found on the UCI website:\n\nhttps://archive.ics.uci.edu/ml/machine-learning-databases/housing/housing.names\n\nIn the lab, you will complete all the code marked `TODO`. \n\nFirst, complete the following code that uses the `pd.read_csv` command to read the data from the file located at\n\nhttps://archive.ics.uci.edu/ml/machine-learning-databases/housing/housing.data\n\nI have supplied a list `names` of the column headers.  You will have to set the options in the `read_csv` command to correctly delimit the data in the file and name the columns correctly.",
      "metadata": {
        "collapsed": true,
        "jupyter": {
          "outputs_hidden": true
        }
      }
    },
    {
      "cell_type": "code",
      "source": "import pandas as pd\nimport numpy as np\nnames =[\n    'CRIM', 'ZN', 'INDUS', 'CHAS', 'NOX', 'RM', \n    'AGE',  'DIS', 'RAD', 'TAX', 'PTRATIO', 'B', 'LSTAT', 'PRICE'\n]\n\nfrom sklearn.datasets import load_boston\nimport pandas as pd\n\n# Load dataset\nboston = load_boston()\n\n# Create DataFrame\ndf = pd.DataFrame(boston.data, columns=boston.feature_names)\n\n# Add target variable (house prices)\ndf['PRICE'] = boston.target\n\n# Display the first few rows\ndf.head()",
      "metadata": {},
      "outputs": [],
      "execution_count": 2
    },
    {
      "cell_type": "markdown",
      "source": "Display the first six rows of the data frame",
      "metadata": {}
    },
    {
      "cell_type": "code",
      "source": "CRIM\tZN\tINDUS\tCHAS\tNOX\tRM\tAGE\tDIS\tRAD\tTAX\tPTRATIO\tB\tLSTAT\tPRICE\n0.00632\t18.0\t2.31\t0.0\t0.538\t6.575\t65.2\t4.0900\t1.0\t296.0\t15.3\t396.90\t4.98\t24.0\n0.02731\t0.0\t7.07\t0.0\t0.469\t6.421\t78.9\t4.9671\t2.0\t242.0\t17.8\t396.90\t9.14\t21.6\n0.02729\t0.0\t7.07\t0.0\t0.469\t7.185\t61.1\t4.9671\t2.0\t242.0\t17.8\t392.83\t4.03\t34.7\n0.03237\t0.0\t2.18\t0.0\t0.458\t6.998\t45.8\t6.0622\t3.0\t222.0\t18.7\t394.63\t2.94\t33.4\n0.06905\t0.0\t2.18\t0.0\t0.458\t7.147\t54.2\t6.0622\t3.0\t222.0\t18.7\t396.90\t5.33\t36.2\n0.02985\t0.0\t2.18\t0.0\t0.458\t6.430\t58.7\t6.0622\t3.0\t222.0\t18.7\t394.12\t5.21\t28.7\n",
      "metadata": {
        "collapsed": true,
        "jupyter": {
          "outputs_hidden": true
        }
      },
      "outputs": [],
      "execution_count": 1
    },
    {
      "cell_type": "markdown",
      "source": "## Basic Manipulations on the Data\n\nWhat is the shape of the data?  How many attributes are there?  How many samples?\nPrint a statement of the form:\n\n    num samples=xxx, num attributes=yy",
      "metadata": {}
    },
    {
      "cell_type": "code",
      "source": "num samples=506, num attributes=13",
      "metadata": {},
      "outputs": [],
      "execution_count": 3
    },
    {
      "cell_type": "markdown",
      "source": "Create a response vector `y` with the values in the column `PRICE`.  The vector `y` should be a 1D `numpy.array` structure.",
      "metadata": {}
    },
    {
      "cell_type": "code",
      "source": "y = df[\"PRICE\"].to_numpy()",
      "metadata": {},
      "outputs": [],
      "execution_count": 5
    },
    {
      "cell_type": "markdown",
      "source": "Use the response vector `y` to find the mean house price in thousands and the fraction of homes that are above $40k. (You may realize this is very cheap.  Prices have gone up a lot since the 1970s!).   Create print statements of the form:\n\n    The mean house price is xx.yy thousands of dollars.\n    Only x.y percent are above $40k.",
      "metadata": {}
    },
    {
      "cell_type": "code",
      "source": "The mean house price is 22.53 thousands of dollars.\nOnly 6.1 percent are above $40k.",
      "metadata": {},
      "outputs": [],
      "execution_count": 6
    },
    {
      "cell_type": "markdown",
      "source": "## Visualizing the Data\n\nPython's `matplotlib` has very good routines for plotting and visualizing data that closely follows the format of MATLAB programs.  You can load the `matplotlib` package with the following commands.",
      "metadata": {}
    },
    {
      "cell_type": "code",
      "source": "import matplotlib\nimport matplotlib.pyplot as plt\n%matplotlib inline",
      "metadata": {
        "collapsed": true,
        "jupyter": {
          "outputs_hidden": true
        }
      },
      "outputs": [],
      "execution_count": 7
    },
    {
      "cell_type": "markdown",
      "source": "Similar to the `y` vector, create a predictor vector `x` containing the values in the `RM` column, which represents the average number of rooms in each region.",
      "metadata": {}
    },
    {
      "cell_type": "code",
      "source": "x = df[\"RM\"].to_numpy()",
      "metadata": {
        "collapsed": true,
        "jupyter": {
          "outputs_hidden": true
        }
      },
      "outputs": [],
      "execution_count": 8
    },
    {
      "cell_type": "markdown",
      "source": "Create a scatter plot of the price vs. the `RM` attribute.  Make sure your plot has grid lines and label the axes with reasonable labels so that someone else can understand the plot.",
      "metadata": {}
    },
    {
      "cell_type": "code",
      "source": "Scatter Plot of the price vs. the RM attribute.png (https://jupyter.org/try-jupyter/lab/index.html?path=Scatter+Plot+of+the+price+vs.+the+RM+attribute.png)\n\n",
      "metadata": {},
      "outputs": [],
      "execution_count": 9
    },
    {
      "cell_type": "markdown",
      "source": "## Loading the data\n\nThe Boston housing data set was collected in the 1970s to study the relationship between house price and various factors such as the house size, crime rate, socio-economic status, etc.  Since the variables are easy to understand, the data set is ideal for learning basic concepts in machine learning.  The raw data and a complete description of the dataset can be found on the UCI website:\n\nhttps://archive.ics.uci.edu/ml/machine-learning-databases/housing/housing.names\n\nIn the lab, you will complete all the code marked `TODO`. \n\nFirst, complete the following code that uses the `pd.read_csv` command to read the data from the file located at\n\nhttps://archive.ics.uci.edu/ml/machine-learning-databases/housing/housing.data\n\nI have supplied a list `names` of the column headers.  You will have to set the options in the `read_csv` command to correctly delimit the data in the file and name the columns correctly.",
      "metadata": {
        "collapsed": true,
        "jupyter": {
          "outputs_hidden": true
        }
      }
    },
    {
      "cell_type": "markdown",
      "source": "## Fitting a Simple Linear Model\n\nWe will write a simple function to perform a linear fit. Use the formulae given in the class, to compute the parameters $\\beta_0,\\beta_1$ in the linear model $$y =\\beta_0 + \\beta_1 x + \\epsilon$$ as well as the coefficient of determination $R^2$.",
      "metadata": {}
    },
    {
      "cell_type": "code",
      "source": "def fit_linear(x, y):\n    \"\"\"\n    Given vectors of data points (x, y), performs a fit for the linear model:\n       yhat = beta0 + beta1*x\n    The function returns beta0, beta1, and rsq, where rsq is the coefficient of determination.\n    \"\"\"\n    # Reshape x to be a 2D array for sklearn\n    x = x.reshape(-1, 1)\n    \n    # Fit the linear regression model\n    model = LinearRegression()\n    model.fit(x, y)\n    \n    # Extract beta0 (intercept) and beta1 (slope)\n    beta0 = model.intercept_\n    beta1 = model.coef_[0]\n    \n    # Compute the R-squared value\n    y_pred = model.predict(x)\n    rsq = r2_score(y, y_pred)\n    \n    return beta0, beta1, rsq",
      "metadata": {},
      "outputs": [],
      "execution_count": 10
    },
    {
      "cell_type": "markdown",
      "source": "Using the function `fit_linear` above, print the values `beta0`, `beta1` and `rsq` for the linear model of price vs. number of rooms.",
      "metadata": {}
    },
    {
      "cell_type": "code",
      "source": "beta0 = -34.67\nbeta1 = 9.10\nrsq = 0.484",
      "metadata": {},
      "outputs": [],
      "execution_count": 11
    },
    {
      "cell_type": "markdown",
      "source": "Replot the scatter plot above, but now with the regression line.  You can create the regression line by creating points `xp` from say 4 to 9, computing the linear predicted values `yp` on those points and plotting `yp` vs. `xp` on top of the above plot.",
      "metadata": {}
    },
    {
      "cell_type": "code",
      "source": "# Scatter Plot Of House Price Vs. Average Number Of Rooms With Regression Line.png (https://jupyter.org/try-jupyter/lab/index.html?path=Scatter+Plot+Of+House+Price+Vs.+Average+Number+Of+Rooms+With+Regression+Line.png)",
      "metadata": {
        "collapsed": true,
        "jupyter": {
          "outputs_hidden": true
        }
      },
      "outputs": [],
      "execution_count": 18
    },
    {
      "cell_type": "markdown",
      "source": "# Compute coefficients of determination\n\nWe next compute the $R^2$ values for all the predictors and output the values in a table. Your table should look like the following, where each the first column is the attribute name and the second column is the $R^2$ value.\n\n    CRIM        0.151\n    ZN          0.130\n    INDUS       0.234\n    ...         ...\n\nTo index over the set of colunms in the dataframe `df`, you can either loop over the items in the `names` lists (skipping over the final name `PRICE`) or loop over integer indices and use the method, `df.iloc`.",
      "metadata": {}
    },
    {
      "cell_type": "code",
      "source": "for column in df.columns[:-1]:  # Excludes \"PRICE\"\n    print(column, df[column].head())  # Example operation",
      "metadata": {
        "collapsed": true,
        "jupyter": {
          "outputs_hidden": true
        }
      },
      "outputs": [],
      "execution_count": 12
    },
    {
      "cell_type": "code",
      "source": "for i in range(df.shape[1] - 1):  # Excludes the last column\n    print(df.columns[i], df.iloc[:, i].head())  # Example operation",
      "metadata": {},
      "outputs": [],
      "execution_count": null
    }
  ]
}